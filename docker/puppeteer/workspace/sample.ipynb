{
 "cells": [
  {
   "cell_type": "code",
   "execution_count": 1,
   "id": "8fc30688",
   "metadata": {},
   "outputs": [],
   "source": [
    "const puppeteer = require('puppeteer')"
   ]
  },
  {
   "cell_type": "code",
   "execution_count": 4,
   "id": "c92c8b7a",
   "metadata": {},
   "outputs": [
    {
     "data": {
      "text/plain": [
       "Promise { <pending> }"
      ]
     },
     "execution_count": 4,
     "metadata": {},
     "output_type": "execute_result"
    },
    {
     "name": "stdout",
     "output_type": "stream",
     "text": [
      "done\n"
     ]
    }
   ],
   "source": [
    "const browser = await puppeteer.launch({\n",
    "  args: ['--disable-dev-shm-usage', '--no-sandbox'],\n",
    "  headless: false\n",
    "});\n",
    "console.log('done')"
   ]
  },
  {
   "cell_type": "code",
   "execution_count": 8,
   "id": "fce1285f",
   "metadata": {},
   "outputs": [
    {
     "data": {
      "text/plain": [
       "Promise { <pending> }"
      ]
     },
     "execution_count": 8,
     "metadata": {},
     "output_type": "execute_result"
    },
    {
     "name": "stdout",
     "output_type": "stream",
     "text": [
      "done\n"
     ]
    }
   ],
   "source": [
    "const page = await browser.newPage();\n",
    "await page.goto('https://example.com');\n",
    "await page.screenshot({ path: 'example.png' });\n",
    "console.log('done')"
   ]
  },
  {
   "cell_type": "code",
   "execution_count": 10,
   "id": "2eb4fd60",
   "metadata": {
    "scrolled": true
   },
   "outputs": [
    {
     "data": {
      "text/plain": [
       "Promise { <pending> }"
      ]
     },
     "execution_count": 10,
     "metadata": {},
     "output_type": "execute_result"
    },
    {
     "name": "stdout",
     "output_type": "stream",
     "text": [
      "done\n"
     ]
    }
   ],
   "source": [
    "await browser.close();\n",
    "console.log('done')"
   ]
  },
  {
   "cell_type": "code",
   "execution_count": 13,
   "id": "3f9789c7",
   "metadata": {},
   "outputs": [
    {
     "ename": "SyntaxError",
     "evalue": "Unexpected token '%'",
     "output_type": "error",
     "traceback": [
      "evalmachine.<anonymous>:1",
      "%ls",
      "^",
      "",
      "SyntaxError: Unexpected token '%'",
      "    at new Script (node:vm:100:7)",
      "    at createScript (node:vm:257:10)",
      "    at Object.runInThisContext (node:vm:305:10)",
      "    at run ([eval]:1020:15)",
      "    at onRunRequest ([eval]:864:18)",
      "    at onMessage ([eval]:828:13)",
      "    at process.emit (node:events:527:28)",
      "    at emit (node:internal/child_process:936:14)",
      "    at processTicksAndRejections (node:internal/process/task_queues:84:21)"
     ]
    }
   ],
   "source": [
    "%ls"
   ]
  }
 ],
 "metadata": {
  "kernelspec": {
   "display_name": "JavaScript (Node.js)",
   "language": "javascript",
   "name": "javascript"
  },
  "language_info": {
   "file_extension": ".js",
   "mimetype": "application/javascript",
   "name": "javascript",
   "version": "17.9.0"
  }
 },
 "nbformat": 4,
 "nbformat_minor": 5
}
